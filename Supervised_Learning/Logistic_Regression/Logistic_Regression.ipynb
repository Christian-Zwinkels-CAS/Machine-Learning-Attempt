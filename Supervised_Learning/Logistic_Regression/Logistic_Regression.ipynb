{
 "cells": [
  {
   "cell_type": "markdown",
   "metadata": {},
   "source": [
    "# Logistic Regression\n",
    "Logistic regression is an algorithm that classifies data based on its input features. It makes a model that makes a decision boundary for the data essentially separating, and the algorithm can take new input data and classify it. Here it is assumed that the reader knows a bit about how linear regression with gradient descent works."
   ]
  },
  {
   "cell_type": "code",
   "execution_count": 2,
   "metadata": {},
   "outputs": [],
   "source": [
    "import numpy as np\n",
    "import pandas as pd\n",
    "import matplotlib.pyplot as plt"
   ]
  },
  {
   "cell_type": "markdown",
   "metadata": {},
   "source": [
    "## Dataset\n",
    "The dataset I used was one I found which was about student's CGPA and GRE scores and each had a percentage change for entering a hypothetical university. I modified the data a bit so that it looks more clearly separated when plotted, and for it to have only 2 features to make it easier to plot. I used pandas to import the data as it is super easy to work with imported data in python using pandas.\n",
    "\n",
    "The data was organized in two matrices, one with the features and one with the outputs. A column full of ones was inserted to the features matrix. Before that thought the features have to be scaled so that the training process happens faster. In this case I used mean normalization which turns the values of each column between 0 and 1 (or -1 to 1 if I had negative values) and also prevents overflows. The formula for mean normalization for one coulumn of features is:\n",
    "$$\n",
    "X' = \\frac{X - \\mu}{max(X) - min(X)}\n",
    "$$\n",
    "Where $ X' $ is the new or transformed coulumn matrix of the feature and $ \\mu $ is the mean of the original column matirx of features."
   ]
  },
  {
   "cell_type": "code",
   "execution_count": 5,
   "metadata": {},
   "outputs": [],
   "source": [
    "data = pd.read_csv(\"Admission_Predict.csv\", header=None, skiprows=1)  # Skips the first row as it is the header row\n",
    "X = data[[0, 1]].to_numpy()  # Converts the data (in this case the features) into a numpy array\n",
    "X = X.astype(np.float32)\n",
    "X = (X - np.mean(X, axis=0)) / (np.max(X, axis=0) - np.min(X, axis=0))  # Mean normalization\n",
    "X = np.insert(X, 0, 1, axis=1)  # Adds the x0 column\n",
    "y = data[2].to_numpy()  # Output column\n",
    "y = y.astype(np.float32())"
   ]
  },
  {
   "cell_type": "markdown",
   "metadata": {},
   "source": [
    "Since this is a classification algorithm, the data needs to be classified. I chose 0 and 1 as classifiers with 1 representing that the student will get accepted, with a decision boundary of 70% which I chose arbitrarily. This can be vizualized with a scatterplot with blue dots repressenting the data labeled as 1, and each axis being a feature."
   ]
  },
  {
   "cell_type": "code",
   "execution_count": 11,
   "metadata": {},
   "outputs": [
    {
     "data": {
      "image/png": "[encoded data removed]",
      "text/plain": [
       "<Figure size 432x288 with 1 Axes>"
      ]
     },
     "metadata": {
      "needs_background": "light"
     },
     "output_type": "display_data"
    }
   ],
   "source": [
    "y = np.where( y >= 0.73, 1, 0)\n",
    "color = {0: \"red\", 1: \"blue\"}\n",
    "plot_1 = X[:, 1]\n",
    "plot_2 = X[:, 2]\n",
    "for i in np.unique(y):\n",
    "    ix = np.where(y == i)\n",
    "    plt.scatter(plot_1[ix], plot_2[ix], c=color[i])\n",
    "plt.xlabel(\"GRE Score (x1)\")\n",
    "plt.ylabel(\"CGPA (x2)\")\n",
    "plt.show()"
   ]
  },
  {
   "cell_type": "markdown",
   "metadata": {},
   "source": [
    "In the end the computer should be able to draw a straight line that separates the data."
   ]
  },
  {
   "cell_type": "code",
   "execution_count": null,
   "metadata": {},
   "outputs": [],
   "source": []
  }
 ],
 "metadata": {
  "kernelspec": {
   "display_name": "Python 3",
   "language": "python",
   "name": "python3"
  },
  "language_info": {
   "codemirror_mode": {
    "name": "ipython",
    "version": 3
   },
   "file_extension": ".py",
   "mimetype": "text/x-python",
   "name": "python",
   "nbconvert_exporter": "python",
   "pygments_lexer": "ipython3",
   "version": "3.7.5"
  }
 },
 "nbformat": 4,
 "nbformat_minor": 2
}
