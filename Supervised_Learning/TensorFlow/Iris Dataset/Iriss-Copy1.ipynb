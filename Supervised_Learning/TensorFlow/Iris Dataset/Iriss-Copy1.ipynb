{
 "cells": [
  {
   "cell_type": "markdown",
   "metadata": {},
   "source": [
    "# Iriss Flower Classifier"
   ]
  },
  {
   "cell_type": "code",
   "execution_count": 3,
   "metadata": {},
   "outputs": [],
   "source": [
    "import numpy as np\n",
    "import pandas as pd\n",
    "import tensorflow as tf"
   ]
  },
  {
   "cell_type": "markdown",
   "metadata": {},
   "source": [
    "## Processing the data"
   ]
  },
  {
   "cell_type": "code",
   "execution_count": 20,
   "metadata": {},
   "outputs": [],
   "source": [
    "data = pd.read_csv('IRIS.csv', header=None, skiprows=1)\n",
    "data = data.sample(frac=1)"
   ]
  },
  {
   "cell_type": "code",
   "execution_count": 21,
   "metadata": {},
   "outputs": [],
   "source": [
    "X = data.iloc[:, 0:data.shape[1]-1]\n",
    "y = data[data.shape[1]-1]\n",
    "\n",
    "labels = {\n",
    "    \"Iris-setosa\": [1, 0, 0], \n",
    "    \"Iris-versicolor\": [0, 1, 0],\n",
    "    \"Iris-virginica\": [0, 0, 1]\n",
    "}\n",
    "y = y.tolist()"
   ]
  },
  {
   "cell_type": "code",
   "execution_count": 22,
   "metadata": {},
   "outputs": [],
   "source": [
    "for i in range(len(y)):\n",
    "    y[i] = labels[y[i]]"
   ]
  },
  {
   "cell_type": "code",
   "execution_count": 23,
   "metadata": {},
   "outputs": [],
   "source": [
    "X = X.to_numpy(dtype=np.float32)\n",
    "y = np.asarray(y, dtype=np.float32)"
   ]
  },
  {
   "cell_type": "code",
   "execution_count": 24,
   "metadata": {},
   "outputs": [],
   "source": [
    "np.save(\"features.npy\", X)\n",
    "np.save(\"labels.npy\", y)"
   ]
  },
  {
   "cell_type": "markdown",
   "metadata": {},
   "source": [
    "## The neural network"
   ]
  },
  {
   "cell_type": "code",
   "execution_count": 25,
   "metadata": {},
   "outputs": [],
   "source": [
    "train_x = np.load(\"features.npy\", allow_pickle=True)\n",
    "train_y = np.load(\"labels.npy\", allow_pickle=True)\n",
    "train_x = tf.keras.utils.normalize(train_x)\n",
    "train_x = tf.convert_to_tensor(train_x)\n",
    "train_y = tf.convert_to_tensor(train_y)"
   ]
  },
  {
   "cell_type": "code",
   "execution_count": 34,
   "metadata": {},
   "outputs": [],
   "source": [
    "model = tf.keras.models.Sequential()\n",
    "model.add(tf.keras.layers.Dense(12, activation=tf.nn.relu, input_shape=(4,)))\n",
    "model.add(tf.keras.layers.Dense(12, activation=tf.nn.relu))\n",
    "model.add(tf.keras.layers.Dense(3, activation=tf.nn.softmax))"
   ]
  },
  {
   "cell_type": "code",
   "execution_count": 46,
   "metadata": {},
   "outputs": [],
   "source": [
    "model.compile(optimizer=\"adam\", loss=\"categorical_crossentropy\", metrics=[\"accuracy\"])"
   ]
  },
  {
   "cell_type": "code",
   "execution_count": 47,
   "metadata": {
    "collapsed": true,
    "jupyter": {
     "outputs_hidden": true
    }
   },
   "outputs": [
    {
     "name": "stdout",
     "output_type": "stream",
     "text": [
      "Train on 150 samples\n",
      "Epoch 1/100\n",
      "150/150 [==============================] - 1s 7ms/sample - loss: 0.1429 - accuracy: 0.9733\n",
      "Epoch 2/100\n",
      "150/150 [==============================] - 0s 107us/sample - loss: 0.1417 - accuracy: 0.9667\n",
      "Epoch 3/100\n",
      "150/150 [==============================] - 0s 100us/sample - loss: 0.1414 - accuracy: 0.9667\n",
      "Epoch 4/100\n",
      "150/150 [==============================] - 0s 87us/sample - loss: 0.1398 - accuracy: 0.9667\n",
      "Epoch 5/100\n",
      "150/150 [==============================] - 0s 87us/sample - loss: 0.1398 - accuracy: 0.9733\n",
      "Epoch 6/100\n",
      "150/150 [==============================] - 0s 79us/sample - loss: 0.1396 - accuracy: 0.9733\n",
      "Epoch 7/100\n",
      "150/150 [==============================] - 0s 93us/sample - loss: 0.1375 - accuracy: 0.9733\n",
      "Epoch 8/100\n",
      "150/150 [==============================] - 0s 87us/sample - loss: 0.1369 - accuracy: 0.9733\n",
      "Epoch 9/100\n",
      "150/150 [==============================] - 0s 87us/sample - loss: 0.1362 - accuracy: 0.9733\n",
      "Epoch 10/100\n",
      "150/150 [==============================] - 0s 80us/sample - loss: 0.1356 - accuracy: 0.9733\n",
      "Epoch 11/100\n",
      "150/150 [==============================] - 0s 73us/sample - loss: 0.1352 - accuracy: 0.9733\n",
      "Epoch 12/100\n",
      "150/150 [==============================] - 0s 73us/sample - loss: 0.1344 - accuracy: 0.9733\n",
      "Epoch 13/100\n",
      "150/150 [==============================] - 0s 80us/sample - loss: 0.1338 - accuracy: 0.9733\n",
      "Epoch 14/100\n",
      "150/150 [==============================] - 0s 87us/sample - loss: 0.1335 - accuracy: 0.9733\n",
      "Epoch 15/100\n",
      "150/150 [==============================] - 0s 73us/sample - loss: 0.1330 - accuracy: 0.9733\n",
      "Epoch 16/100\n",
      "150/150 [==============================] - 0s 80us/sample - loss: 0.1326 - accuracy: 0.9733\n",
      "Epoch 17/100\n",
      "150/150 [==============================] - 0s 80us/sample - loss: 0.1315 - accuracy: 0.9733\n",
      "Epoch 18/100\n",
      "150/150 [==============================] - 0s 80us/sample - loss: 0.1324 - accuracy: 0.9667\n",
      "Epoch 19/100\n",
      "150/150 [==============================] - 0s 80us/sample - loss: 0.1312 - accuracy: 0.9667\n",
      "Epoch 20/100\n",
      "150/150 [==============================] - 0s 80us/sample - loss: 0.1305 - accuracy: 0.9733\n",
      "Epoch 21/100\n",
      "150/150 [==============================] - 0s 80us/sample - loss: 0.1302 - accuracy: 0.9733\n",
      "Epoch 22/100\n",
      "150/150 [==============================] - 0s 80us/sample - loss: 0.1289 - accuracy: 0.9733\n",
      "Epoch 23/100\n",
      "150/150 [==============================] - 0s 80us/sample - loss: 0.1287 - accuracy: 0.9733\n",
      "Epoch 24/100\n",
      "150/150 [==============================] - 0s 73us/sample - loss: 0.1280 - accuracy: 0.9733\n",
      "Epoch 25/100\n",
      "150/150 [==============================] - 0s 73us/sample - loss: 0.1275 - accuracy: 0.9733\n",
      "Epoch 26/100\n",
      "150/150 [==============================] - ETA: 0s - loss: 0.0879 - accuracy: 1.00 - 0s 107us/sample - loss: 0.1272 - accuracy: 0.9733\n",
      "Epoch 27/100\n",
      "150/150 [==============================] - 0s 93us/sample - loss: 0.1267 - accuracy: 0.9667\n",
      "Epoch 28/100\n",
      "150/150 [==============================] - 0s 87us/sample - loss: 0.1261 - accuracy: 0.9667\n",
      "Epoch 29/100\n",
      "150/150 [==============================] - 0s 87us/sample - loss: 0.1258 - accuracy: 0.9733\n",
      "Epoch 30/100\n",
      "150/150 [==============================] - 0s 80us/sample - loss: 0.1255 - accuracy: 0.9733\n",
      "Epoch 31/100\n",
      "150/150 [==============================] - 0s 80us/sample - loss: 0.1245 - accuracy: 0.9733\n",
      "Epoch 32/100\n",
      "150/150 [==============================] - 0s 80us/sample - loss: 0.1243 - accuracy: 0.9733\n",
      "Epoch 33/100\n",
      "150/150 [==============================] - 0s 80us/sample - loss: 0.1240 - accuracy: 0.9733\n",
      "Epoch 34/100\n",
      "150/150 [==============================] - 0s 80us/sample - loss: 0.1233 - accuracy: 0.9733\n",
      "Epoch 35/100\n",
      "150/150 [==============================] - 0s 73us/sample - loss: 0.1230 - accuracy: 0.9733\n",
      "Epoch 36/100\n",
      "150/150 [==============================] - 0s 73us/sample - loss: 0.1225 - accuracy: 0.9667\n",
      "Epoch 37/100\n",
      "150/150 [==============================] - 0s 80us/sample - loss: 0.1222 - accuracy: 0.9733\n",
      "Epoch 38/100\n",
      "150/150 [==============================] - 0s 73us/sample - loss: 0.1221 - accuracy: 0.9733\n",
      "Epoch 39/100\n",
      "150/150 [==============================] - 0s 80us/sample - loss: 0.1218 - accuracy: 0.9733\n",
      "Epoch 40/100\n",
      "150/150 [==============================] - 0s 67us/sample - loss: 0.1208 - accuracy: 0.9733\n",
      "Epoch 41/100\n",
      "150/150 [==============================] - 0s 73us/sample - loss: 0.1207 - accuracy: 0.9667\n",
      "Epoch 42/100\n",
      "150/150 [==============================] - 0s 80us/sample - loss: 0.1205 - accuracy: 0.9667\n",
      "Epoch 43/100\n",
      "150/150 [==============================] - 0s 80us/sample - loss: 0.1196 - accuracy: 0.9733\n",
      "Epoch 44/100\n",
      "150/150 [==============================] - 0s 73us/sample - loss: 0.1193 - accuracy: 0.9733\n",
      "Epoch 45/100\n",
      "150/150 [==============================] - 0s 80us/sample - loss: 0.1190 - accuracy: 0.9733\n",
      "Epoch 46/100\n",
      "150/150 [==============================] - 0s 80us/sample - loss: 0.1184 - accuracy: 0.9733\n",
      "Epoch 47/100\n",
      "150/150 [==============================] - 0s 80us/sample - loss: 0.1184 - accuracy: 0.9733\n",
      "Epoch 48/100\n",
      "150/150 [==============================] - 0s 80us/sample - loss: 0.1175 - accuracy: 0.9733\n",
      "Epoch 49/100\n",
      "150/150 [==============================] - 0s 73us/sample - loss: 0.1171 - accuracy: 0.9733\n",
      "Epoch 50/100\n",
      "150/150 [==============================] - 0s 80us/sample - loss: 0.1168 - accuracy: 0.9733\n",
      "Epoch 51/100\n",
      "150/150 [==============================] - 0s 73us/sample - loss: 0.1167 - accuracy: 0.9733\n",
      "Epoch 52/100\n",
      "150/150 [==============================] - 0s 80us/sample - loss: 0.1171 - accuracy: 0.9733\n",
      "Epoch 53/100\n",
      "150/150 [==============================] - 0s 67us/sample - loss: 0.1168 - accuracy: 0.9733\n",
      "Epoch 54/100\n",
      "150/150 [==============================] - 0s 87us/sample - loss: 0.1154 - accuracy: 0.9733\n",
      "Epoch 55/100\n",
      "150/150 [==============================] - 0s 73us/sample - loss: 0.1152 - accuracy: 0.9733\n",
      "Epoch 56/100\n",
      "150/150 [==============================] - 0s 80us/sample - loss: 0.1148 - accuracy: 0.9733\n",
      "Epoch 57/100\n",
      "150/150 [==============================] - 0s 73us/sample - loss: 0.1146 - accuracy: 0.9733\n",
      "Epoch 58/100\n",
      "150/150 [==============================] - 0s 80us/sample - loss: 0.1139 - accuracy: 0.9733\n",
      "Epoch 59/100\n",
      "150/150 [==============================] - 0s 73us/sample - loss: 0.1140 - accuracy: 0.9733\n",
      "Epoch 60/100\n",
      "150/150 [==============================] - 0s 73us/sample - loss: 0.1133 - accuracy: 0.9733\n",
      "Epoch 61/100\n",
      "150/150 [==============================] - 0s 73us/sample - loss: 0.1144 - accuracy: 0.9667\n",
      "Epoch 62/100\n",
      "150/150 [==============================] - 0s 73us/sample - loss: 0.1130 - accuracy: 0.9667\n",
      "Epoch 63/100\n",
      "150/150 [==============================] - 0s 73us/sample - loss: 0.1122 - accuracy: 0.9733\n",
      "Epoch 64/100\n",
      "150/150 [==============================] - 0s 73us/sample - loss: 0.1122 - accuracy: 0.9667\n",
      "Epoch 65/100\n",
      "150/150 [==============================] - 0s 73us/sample - loss: 0.1125 - accuracy: 0.9667\n",
      "Epoch 66/100\n",
      "150/150 [==============================] - 0s 80us/sample - loss: 0.1117 - accuracy: 0.9667\n",
      "Epoch 67/100\n",
      "150/150 [==============================] - 0s 73us/sample - loss: 0.1113 - accuracy: 0.9733\n",
      "Epoch 68/100\n",
      "150/150 [==============================] - 0s 80us/sample - loss: 0.1109 - accuracy: 0.9733\n",
      "Epoch 69/100\n",
      "150/150 [==============================] - ETA: 0s - loss: 0.0957 - accuracy: 0.96 - 0s 73us/sample - loss: 0.1111 - accuracy: 0.9733\n",
      "Epoch 70/100\n",
      "150/150 [==============================] - 0s 73us/sample - loss: 0.1106 - accuracy: 0.9667\n",
      "Epoch 71/100\n",
      "150/150 [==============================] - 0s 73us/sample - loss: 0.1099 - accuracy: 0.9733\n",
      "Epoch 72/100\n",
      "150/150 [==============================] - 0s 67us/sample - loss: 0.1100 - accuracy: 0.9667\n",
      "Epoch 73/100\n",
      "150/150 [==============================] - 0s 73us/sample - loss: 0.1097 - accuracy: 0.9667\n",
      "Epoch 74/100\n",
      "150/150 [==============================] - 0s 67us/sample - loss: 0.1095 - accuracy: 0.9667\n",
      "Epoch 75/100\n",
      "150/150 [==============================] - 0s 73us/sample - loss: 0.1089 - accuracy: 0.9733\n",
      "Epoch 76/100\n",
      "150/150 [==============================] - 0s 73us/sample - loss: 0.1090 - accuracy: 0.9667\n",
      "Epoch 77/100\n",
      "150/150 [==============================] - 0s 67us/sample - loss: 0.1087 - accuracy: 0.9667\n",
      "Epoch 78/100\n",
      "150/150 [==============================] - 0s 80us/sample - loss: 0.1085 - accuracy: 0.9733\n",
      "Epoch 79/100\n",
      "150/150 [==============================] - 0s 73us/sample - loss: 0.1085 - accuracy: 0.9667\n",
      "Epoch 80/100\n",
      "150/150 [==============================] - 0s 73us/sample - loss: 0.1082 - accuracy: 0.9667\n",
      "Epoch 81/100\n",
      "150/150 [==============================] - 0s 73us/sample - loss: 0.1074 - accuracy: 0.9733\n",
      "Epoch 82/100\n",
      "150/150 [==============================] - 0s 73us/sample - loss: 0.1069 - accuracy: 0.9733\n",
      "Epoch 83/100\n",
      "150/150 [==============================] - 0s 73us/sample - loss: 0.1068 - accuracy: 0.9733\n",
      "Epoch 84/100\n",
      "150/150 [==============================] - 0s 80us/sample - loss: 0.1066 - accuracy: 0.9733\n",
      "Epoch 85/100\n",
      "150/150 [==============================] - 0s 67us/sample - loss: 0.1064 - accuracy: 0.9733\n",
      "Epoch 86/100\n",
      "150/150 [==============================] - 0s 80us/sample - loss: 0.1060 - accuracy: 0.9733\n",
      "Epoch 87/100\n",
      "150/150 [==============================] - 0s 73us/sample - loss: 0.1070 - accuracy: 0.9667\n",
      "Epoch 88/100\n",
      "150/150 [==============================] - 0s 73us/sample - loss: 0.1055 - accuracy: 0.9667\n",
      "Epoch 89/100\n",
      "150/150 [==============================] - 0s 80us/sample - loss: 0.1060 - accuracy: 0.9733\n",
      "Epoch 90/100\n",
      "150/150 [==============================] - 0s 67us/sample - loss: 0.1052 - accuracy: 0.9733\n",
      "Epoch 91/100\n",
      "150/150 [==============================] - 0s 73us/sample - loss: 0.1052 - accuracy: 0.9733\n",
      "Epoch 92/100\n",
      "150/150 [==============================] - 0s 87us/sample - loss: 0.1050 - accuracy: 0.9667\n",
      "Epoch 93/100\n",
      "150/150 [==============================] - 0s 73us/sample - loss: 0.1052 - accuracy: 0.9667\n",
      "Epoch 94/100\n",
      "150/150 [==============================] - 0s 67us/sample - loss: 0.1055 - accuracy: 0.9667\n",
      "Epoch 95/100\n",
      "150/150 [==============================] - 0s 73us/sample - loss: 0.1041 - accuracy: 0.9733\n",
      "Epoch 96/100\n",
      "150/150 [==============================] - 0s 73us/sample - loss: 0.1038 - accuracy: 0.9733\n",
      "Epoch 97/100\n",
      "150/150 [==============================] - 0s 73us/sample - loss: 0.1039 - accuracy: 0.9733\n",
      "Epoch 98/100\n",
      "150/150 [==============================] - 0s 80us/sample - loss: 0.1041 - accuracy: 0.9600\n",
      "Epoch 99/100\n",
      "150/150 [==============================] - 0s 87us/sample - loss: 0.1035 - accuracy: 0.9600\n",
      "Epoch 100/100\n",
      "150/150 [==============================] - 0s 73us/sample - loss: 0.1029 - accuracy: 0.9667\n"
     ]
    },
    {
     "data": {
      "text/plain": [
       "<tensorflow.python.keras.callbacks.History at 0x2d16b74c4c8>"
      ]
     },
     "execution_count": 47,
     "metadata": {},
     "output_type": "execute_result"
    }
   ],
   "source": [
    "model.fit(train_x, train_y, epochs=100)"
   ]
  },
  {
   "cell_type": "code",
   "execution_count": 40,
   "metadata": {
    "collapsed": true,
    "jupyter": {
     "outputs_hidden": true
    }
   },
   "outputs": [
    {
     "name": "stdout",
     "output_type": "stream",
     "text": [
      "INFO:tensorflow:Assets written to: Iris.model\\assets\n"
     ]
    }
   ],
   "source": [
    "model.save(\"Iris.model\")"
   ]
  },
  {
   "cell_type": "markdown",
   "metadata": {},
   "source": [
    "## Testing and evaluating the model"
   ]
  },
  {
   "cell_type": "code",
   "execution_count": 41,
   "metadata": {},
   "outputs": [],
   "source": [
    "test_x = np.load(\"features.npy\")\n",
    "test_y = np.load(\"labels.npy\")\n",
    "model = tf.keras.models.load_model(\"Iris.model\")"
   ]
  },
  {
   "cell_type": "code",
   "execution_count": 42,
   "metadata": {},
   "outputs": [],
   "source": [
    "preds = model.predict(test_x)"
   ]
  },
  {
   "cell_type": "code",
   "execution_count": 43,
   "metadata": {
    "collapsed": true,
    "jupyter": {
     "outputs_hidden": true
    }
   },
   "outputs": [
    {
     "name": "stdout",
     "output_type": "stream",
     "text": [
      "y: 0 pred: 0\n",
      "y: 2 pred: 2\n",
      "y: 1 pred: 2\n",
      "y: 0 pred: 0\n",
      "y: 0 pred: 0\n",
      "y: 1 pred: 2\n",
      "y: 0 pred: 0\n",
      "y: 0 pred: 0\n",
      "y: 0 pred: 0\n",
      "y: 2 pred: 2\n",
      "y: 2 pred: 2\n",
      "y: 1 pred: 2\n",
      "y: 1 pred: 2\n",
      "y: 2 pred: 2\n",
      "y: 2 pred: 2\n",
      "y: 2 pred: 2\n",
      "y: 2 pred: 2\n",
      "y: 1 pred: 2\n",
      "y: 1 pred: 2\n",
      "y: 0 pred: 0\n",
      "y: 0 pred: 0\n",
      "y: 1 pred: 2\n",
      "y: 1 pred: 2\n",
      "y: 2 pred: 2\n",
      "y: 2 pred: 2\n",
      "y: 1 pred: 2\n",
      "y: 0 pred: 0\n",
      "y: 2 pred: 2\n",
      "y: 0 pred: 0\n",
      "y: 0 pred: 0\n",
      "y: 1 pred: 2\n",
      "y: 2 pred: 2\n",
      "y: 0 pred: 0\n",
      "y: 1 pred: 2\n",
      "y: 1 pred: 2\n",
      "y: 2 pred: 2\n",
      "y: 1 pred: 2\n",
      "y: 1 pred: 2\n",
      "y: 2 pred: 2\n",
      "y: 2 pred: 2\n",
      "y: 2 pred: 2\n",
      "y: 0 pred: 0\n",
      "y: 1 pred: 2\n",
      "y: 0 pred: 0\n",
      "y: 0 pred: 0\n",
      "y: 1 pred: 2\n",
      "y: 0 pred: 0\n",
      "y: 0 pred: 0\n",
      "y: 2 pred: 2\n",
      "y: 0 pred: 0\n",
      "y: 2 pred: 2\n",
      "y: 0 pred: 0\n",
      "y: 0 pred: 0\n",
      "y: 1 pred: 2\n",
      "y: 2 pred: 2\n",
      "y: 1 pred: 2\n",
      "y: 0 pred: 0\n",
      "y: 2 pred: 2\n",
      "y: 0 pred: 0\n",
      "y: 1 pred: 2\n",
      "y: 2 pred: 2\n",
      "y: 1 pred: 2\n",
      "y: 1 pred: 2\n",
      "y: 0 pred: 0\n",
      "y: 1 pred: 2\n",
      "y: 0 pred: 0\n",
      "y: 1 pred: 2\n",
      "y: 0 pred: 0\n",
      "y: 0 pred: 0\n",
      "y: 1 pred: 2\n",
      "y: 2 pred: 2\n",
      "y: 2 pred: 2\n",
      "y: 0 pred: 0\n",
      "y: 1 pred: 2\n",
      "y: 0 pred: 0\n",
      "y: 0 pred: 0\n",
      "y: 0 pred: 0\n",
      "y: 2 pred: 2\n",
      "y: 0 pred: 0\n",
      "y: 2 pred: 2\n",
      "y: 2 pred: 2\n",
      "y: 1 pred: 2\n",
      "y: 0 pred: 0\n",
      "y: 2 pred: 2\n",
      "y: 0 pred: 0\n",
      "y: 0 pred: 0\n",
      "y: 2 pred: 2\n",
      "y: 2 pred: 2\n",
      "y: 1 pred: 2\n",
      "y: 2 pred: 2\n",
      "y: 2 pred: 2\n",
      "y: 0 pred: 0\n",
      "y: 0 pred: 0\n",
      "y: 2 pred: 2\n",
      "y: 2 pred: 2\n",
      "y: 1 pred: 2\n",
      "y: 1 pred: 2\n",
      "y: 2 pred: 2\n",
      "y: 1 pred: 2\n",
      "y: 1 pred: 2\n",
      "y: 1 pred: 2\n",
      "y: 1 pred: 2\n",
      "y: 2 pred: 2\n",
      "y: 2 pred: 2\n",
      "y: 1 pred: 2\n",
      "y: 1 pred: 1\n",
      "y: 0 pred: 0\n",
      "y: 2 pred: 2\n",
      "y: 0 pred: 0\n",
      "y: 2 pred: 2\n",
      "y: 0 pred: 0\n",
      "y: 2 pred: 2\n",
      "y: 2 pred: 2\n",
      "y: 2 pred: 2\n",
      "y: 1 pred: 2\n",
      "y: 2 pred: 2\n",
      "y: 0 pred: 0\n",
      "y: 1 pred: 2\n",
      "y: 2 pred: 2\n",
      "y: 0 pred: 0\n",
      "y: 1 pred: 1\n",
      "y: 1 pred: 2\n",
      "y: 1 pred: 2\n",
      "y: 1 pred: 2\n",
      "y: 1 pred: 2\n",
      "y: 1 pred: 2\n",
      "y: 0 pred: 0\n",
      "y: 2 pred: 2\n",
      "y: 2 pred: 2\n",
      "y: 1 pred: 2\n",
      "y: 0 pred: 0\n",
      "y: 2 pred: 2\n",
      "y: 0 pred: 0\n",
      "y: 0 pred: 0\n",
      "y: 0 pred: 0\n",
      "y: 1 pred: 1\n",
      "y: 2 pred: 2\n",
      "y: 1 pred: 2\n",
      "y: 0 pred: 0\n",
      "y: 1 pred: 2\n",
      "y: 1 pred: 2\n",
      "y: 0 pred: 0\n",
      "y: 2 pred: 2\n",
      "y: 0 pred: 0\n",
      "y: 0 pred: 0\n",
      "y: 1 pred: 1\n",
      "y: 2 pred: 2\n",
      "y: 2 pred: 2\n",
      "y: 2 pred: 2\n",
      "y: 1 pred: 2\n"
     ]
    }
   ],
   "source": [
    "for y, p in zip(test_y, preds):\n",
    "    print(\"y:\", np.argmax(y), \"pred:\", np.argmax(p))"
   ]
  },
  {
   "cell_type": "code",
   "execution_count": null,
   "metadata": {},
   "outputs": [],
   "source": []
  },
  {
   "cell_type": "code",
   "execution_count": null,
   "metadata": {},
   "outputs": [],
   "source": []
  }
 ],
 "metadata": {
  "kernelspec": {
   "display_name": "Python 3",
   "language": "python",
   "name": "python3"
  },
  "language_info": {
   "codemirror_mode": {
    "name": "ipython",
    "version": 3
   },
   "file_extension": ".py",
   "mimetype": "text/x-python",
   "name": "python",
   "nbconvert_exporter": "python",
   "pygments_lexer": "ipython3",
   "version": "3.7.6"
  }
 },
 "nbformat": 4,
 "nbformat_minor": 4
}
