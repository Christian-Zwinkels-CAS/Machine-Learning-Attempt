{
 "cells": [
  {
   "cell_type": "markdown",
   "metadata": {},
   "source": [
    "# Convolution Neural Network Using TensorFlow"
   ]
  },
  {
   "cell_type": "markdown",
   "metadata": {},
   "source": [
    "TensorFlow is Google Brain Teams's open source libary for machine learning. Here I will code a convolutional neural network to classify the fashion MNIST dataset as the regular MNIST dataset has been done too many times. I decided to use a convolutional neural network as it is better for working with images. Convolutional neural networks use filters in order to detect features that can help with the training."
   ]
  },
  {
   "cell_type": "markdown",
   "metadata": {},
   "source": [
    "## Processing the data"
   ]
  },
  {
   "cell_type": "code",
   "execution_count": 2,
   "metadata": {},
   "outputs": [],
   "source": [
    "import gzip as gz\n",
    "import numpy as np\n",
    "from matplotlib import pyplot as plt\n",
    "import tensorflow as tf\n",
    "import random"
   ]
  },
  {
   "cell_type": "markdown",
   "metadata": {},
   "source": [
    "The dataset I used contained 60000 images of 10 different types of fashion items such as clothes and shoes an can be found at: https://github.com/zalandoresearch/fashion-mnist with each image labeled with what kind of fashion item it is. It is the same as the MNIST dataset but with fashion instead. It uses the exact same format as the MNIST dataset just with different images. First the files are loaded"
   ]
  },
  {
   "cell_type": "code",
   "execution_count": 7,
   "metadata": {},
   "outputs": [],
   "source": [
    "train_x = gz.open(\"Data/train-images-idx3-ubyte.gz\", \"r\")\n",
    "train_y = gz.open(\"Data/train-labels-idx1-ubyte.gz\", \"r\")"
   ]
  },
  {
   "cell_type": "markdown",
   "metadata": {},
   "source": [
    "We set the size of the images (which are 28x28) and the number of images"
   ]
  },
  {
   "cell_type": "code",
   "execution_count": 8,
   "metadata": {},
   "outputs": [],
   "source": [
    "img_size = 28\n",
    "num_images = 60000"
   ]
  },
  {
   "cell_type": "markdown",
   "metadata": {},
   "source": [
    "The data is stored in a sequence of bytes. The first 16 bytes are read but not assigned any value since they do not contain any usable data (as said in the original MNIST dataset website: http://yann.lecun.com/exdb/mnist/) then it reads the data in such a way that every training example is separated. Finally it reshapes it into a usable format."
   ]
  },
  {
   "cell_type": "code",
   "execution_count": 9,
   "metadata": {},
   "outputs": [],
   "source": [
    "train_x.read(16)  # First 16 bytes contain unecessary information\n",
    "train_x = train_x.read(img_size * img_size * num_images)\n",
    "train_x = np.frombuffer(train_x, dtype=np.uint8())\n",
    "train_x = train_x.reshape(num_images, img_size, img_size)"
   ]
  },
  {
   "cell_type": "markdown",
   "metadata": {},
   "source": [
    "Same concept for the labels but it is converted to a list instead of a numpy array."
   ]
  },
  {
   "cell_type": "code",
   "execution_count": 10,
   "metadata": {},
   "outputs": [],
   "source": [
    "train_y.read(8)  # First 8 bytes contain unecessary info\n",
    "train_y = train_y.read(num_images)\n",
    "train_y = np.frombuffer(train_y, dtype=np.uint8)\n",
    "train_y = train_y.tolist()"
   ]
  },
  {
   "cell_type": "markdown",
   "metadata": {},
   "source": [
    "Here each label is assinged a row (but idealy should be row) matrix with all 0s expect for one element. Each element shows the probability of it being that label so for example a picture of a pullover is labeled as a 2 (labels range from 0 to 9) then the third element (python starts counting from 0 so the first element is indexed as teh 0th element) is going to be a 1.\n",
    "$$\n",
    "\\begin{bmatrix}\n",
    "P(Shirt) \\\\\n",
    "P(Trouser) \\\\\n",
    "P(Pullover \\\\\n",
    "\\vdots \\\\\n",
    "P(Ankle boot)\n",
    "\\end{bmatrix}\n",
    "$$"
   ]
  },
  {
   "cell_type": "code",
   "execution_count": 11,
   "metadata": {},
   "outputs": [],
   "source": [
    "for i in range(len(train_y)):\n",
    "    index = train_y[i]\n",
    "    train_y[i] = np.zeros((1, 10), dtype=np.float32)\n",
    "    np.put(train_y[i], index, 1)"
   ]
  },
  {
   "cell_type": "markdown",
   "metadata": {},
   "source": [
    "Then the data is saved"
   ]
  },
  {
   "cell_type": "code",
   "execution_count": 12,
   "metadata": {},
   "outputs": [],
   "source": [
    "np.save(\"Data/train_features.npy\", train_x)\n",
    "np.save(\"Data/train_labels.npy\", train_y)"
   ]
  },
  {
   "cell_type": "markdown",
   "metadata": {},
   "source": [
    "The image data can be visualy shown."
   ]
  },
  {
   "cell_type": "code",
   "execution_count": 17,
   "metadata": {},
   "outputs": [
    {
     "data": {
      "image/png": "[encoded data removed]",
      "text/plain": [
       "<Figure size 432x288 with 1 Axes>"
      ]
     },
     "metadata": {
      "needs_background": "light"
     },
     "output_type": "display_data"
    }
   ],
   "source": [
    "plt.imshow(tf.squeeze(train_x[np.random.randint(0, len(train_y))]), cmap=\"binary\")\n",
    "plt.show()"
   ]
  },
  {
   "cell_type": "markdown",
   "metadata": {},
   "source": [
    "## The model"
   ]
  },
  {
   "cell_type": "markdown",
   "metadata": {},
   "source": [
    "First the data is loaded and converted to tensors. A new axis is added to repressent the amount of colour channels so the dimension in general are: width $\\times$ height $\\times$ number of colour channels. The data is shuffled which makes the machine learn to fit all the data not just the first types, and batched so that I don't get an out of memory issue."
   ]
  },
  {
   "cell_type": "code",
   "execution_count": 3,
   "metadata": {},
   "outputs": [],
   "source": [
    "train_x = np.load(\"Data/train_features.npy\")\n",
    "train_y = np.load(\"Data/train_labels.npy\")\n",
    "# c = list(zip(train_x, train_y))\n",
    "# random.shuffle(c)\n",
    "# train_x, train_y = zip(*c)\n",
    "train_x = tf.convert_to_tensor(train_x, dtype=tf.float32)\n",
    "train_x = train_x / 255.0\n",
    "train_x = train_x[..., tf.newaxis]\n",
    "train_y = tf.convert_to_tensor(train_y, dtype=tf.float32)\n",
    "train_ds = tf.data.Dataset.from_tensor_slices((train_x, train_y)).shuffle(1000).batch(32)"
   ]
  },
  {
   "cell_type": "code",
   "execution_count": 4,
   "metadata": {},
   "outputs": [],
   "source": [
    "class TrainModel(tf.keras.Model):\n",
    "    def __init__(self):\n",
    "        super(TrainModel, self).__init__()\n",
    "        self.conv1 = tf.keras.layers.Conv2D(16, 3, activation=\"relu\")\n",
    "        self.pool1 = tf.keras.layers.MaxPool2D()\n",
    "        self.flatten = tf.keras.layers.Flatten()\n",
    "        self.d1 = tf.keras.layers.Dense(128, activation=\"relu\")\n",
    "        self.d2 = tf.keras.layers.Dense(32, activation=\"relu\")\n",
    "        self.d3 = tf.keras.layers.Dense(10, activation=\"softmax\")\n",
    "\n",
    "    def call(self, inputs):\n",
    "        x = self.conv1(inputs)\n",
    "        x = self.pool1(x)\n",
    "        x = self.flatten(x)\n",
    "        x = self.d1(x)\n",
    "        x = self.d2(x)\n",
    "        return self.d3(x)\n",
    "\n",
    "model = TrainModel()"
   ]
  },
  {
   "cell_type": "code",
   "execution_count": 5,
   "metadata": {},
   "outputs": [],
   "source": [
    "loss = tf.keras.losses.CategoricalCrossentropy()\n",
    "optimizer = tf.keras.optimizers.Adam()\n",
    "accuracy = tf.keras.metrics.Accuracy()\n",
    "train_loss = tf.keras.metrics.Mean()"
   ]
  },
  {
   "cell_type": "code",
   "execution_count": 6,
   "metadata": {},
   "outputs": [],
   "source": [
    "@tf.function  # This just increases performance\n",
    "def TrainStep(data_in, data_out):\n",
    "    with tf.GradientTape() as g:\n",
    "        preds = model(data_in)\n",
    "        loss_funct = loss(data_out, preds)\n",
    "    gradients = g.gradient(loss_funct, model.trainable_variables)\n",
    "    optimizer.apply_gradients(zip(gradients, model.trainable_variables))\n",
    "    accuracy(tf.squeeze(data_out), preds)\n",
    "    train_loss(loss_funct)"
   ]
  },
  {
   "cell_type": "code",
   "execution_count": 13,
   "metadata": {},
   "outputs": [],
   "source": [
    "def train(dataset, epochs):\n",
    "    for epoch in range(epochs):\n",
    "        accuracy.reset_states()\n",
    "        train_loss.reset_states()\n",
    "\n",
    "        for img, labels in dataset:\n",
    "            TrainStep(img, labels)\n",
    "\n",
    "        placeholder = \"Epoch: {}, Loss: {}, Accuracy: {} %\"\n",
    "        print(placeholder.format(epoch + 1, train_loss.result(), np.around(accuracy.result()*100, decimals=1)))"
   ]
  },
  {
   "cell_type": "code",
   "execution_count": 9,
   "metadata": {},
   "outputs": [],
   "source": [
    "# Just messing with tensorflows gradient tape\n",
    "x = tf.constant(5.0)\n",
    "with tf.GradientTape() as g:\n",
    "  g.watch(x)\n",
    "  y = 2*x**2 + 5*x\n",
    "dy_dx = g.gradient(y, x)"
   ]
  },
  {
   "cell_type": "code",
   "execution_count": 10,
   "metadata": {},
   "outputs": [
    {
     "data": {
      "text/plain": [
       "<tf.Tensor: shape=(), dtype=float32, numpy=25.0>"
      ]
     },
     "execution_count": 10,
     "metadata": {},
     "output_type": "execute_result"
    }
   ],
   "source": [
    "dy_dx"
   ]
  },
  {
   "cell_type": "code",
   "execution_count": 16,
   "metadata": {},
   "outputs": [
    {
     "name": "stdout",
     "output_type": "stream",
     "text": [
      "Epoch: 1, Loss: 0.010215820744633675, Accuracy: 28.5 %\n",
      "Epoch: 2, Loss: 0.01064203679561615, Accuracy: 28.200000762939453 %\n",
      "Epoch: 3, Loss: 0.011628749780356884, Accuracy: 28.299999237060547 %\n",
      "Epoch: 4, Loss: 0.011766750365495682, Accuracy: 29.799999237060547 %\n",
      "Epoch: 5, Loss: 0.010643944144248962, Accuracy: 30.700000762939453 %\n",
      "Epoch: 6, Loss: 0.013059194199740887, Accuracy: 29.0 %\n",
      "Epoch: 7, Loss: 0.010710659436881542, Accuracy: 29.799999237060547 %\n",
      "Epoch: 8, Loss: 0.011056344024837017, Accuracy: 31.200000762939453 %\n",
      "Epoch: 9, Loss: 0.01208242867141962, Accuracy: 31.799999237060547 %\n",
      "Epoch: 10, Loss: 0.009612374007701874, Accuracy: 31.600000381469727 %\n",
      "Epoch: 11, Loss: 0.006708370056003332, Accuracy: 30.799999237060547 %\n",
      "Epoch: 12, Loss: 0.013408802449703217, Accuracy: 31.299999237060547 %\n",
      "Epoch: 13, Loss: 0.009910215623676777, Accuracy: 32.29999923706055 %\n",
      "Epoch: 14, Loss: 0.008611105382442474, Accuracy: 31.899999618530273 %\n",
      "Epoch: 15, Loss: 0.008056191727519035, Accuracy: 32.20000076293945 %\n"
     ]
    }
   ],
   "source": [
    "train(train_ds, 15)"
   ]
  },
  {
   "cell_type": "code",
   "execution_count": 18,
   "metadata": {},
   "outputs": [
    {
     "name": "stdout",
     "output_type": "stream",
     "text": [
      "WARNING:tensorflow:From C:\\Users\\chris\\.conda\\envs\\tensorflow_env\\lib\\site-packages\\tensorflow_core\\python\\ops\\resource_variable_ops.py:1786: calling BaseResourceVariable.__init__ (from tensorflow.python.ops.resource_variable_ops) with constraint is deprecated and will be removed in a future version.\n",
      "Instructions for updating:\n",
      "If using Keras pass *_constraint arguments to layers.\n",
      "INFO:tensorflow:Assets written to: Fashion.model\\assets\n"
     ]
    }
   ],
   "source": [
    "model.save(\"Fashion.model\")"
   ]
  },
  {
   "cell_type": "code",
   "execution_count": null,
   "metadata": {},
   "outputs": [],
   "source": []
  }
 ],
 "metadata": {
  "kernelspec": {
   "display_name": "Python 3",
   "language": "python",
   "name": "python3"
  },
  "language_info": {
   "codemirror_mode": {
    "name": "ipython",
    "version": 3
   },
   "file_extension": ".py",
   "mimetype": "text/x-python",
   "name": "python",
   "nbconvert_exporter": "python",
   "pygments_lexer": "ipython3",
   "version": "3.7.6"
  }
 },
 "nbformat": 4,
 "nbformat_minor": 4
}
