{
 "cells": [
  {
   "cell_type": "markdown",
   "metadata": {},
   "source": [
    "# Convolution Neural Network Using TensorFlow"
   ]
  },
  {
   "cell_type": "code",
   "execution_count": null,
   "metadata": {},
   "outputs": [],
   "source": []
  },
  {
   "cell_type": "markdown",
   "metadata": {},
   "source": [
    "## Processing the data"
   ]
  },
  {
   "cell_type": "code",
   "execution_count": 2,
   "metadata": {},
   "outputs": [],
   "source": [
    "import gzip as gz\n",
    "import numpy as np\n",
    "from matplotlib import pyplot as plt\n",
    "import tensorflow as tf\n",
    "import random"
   ]
  },
  {
   "cell_type": "code",
   "execution_count": 7,
   "metadata": {},
   "outputs": [],
   "source": [
    "train_x = gz.open(\"Data/train-images-idx3-ubyte.gz\", \"r\")\n",
    "train_y = gz.open(\"Data/train-labels-idx1-ubyte.gz\", \"r\")"
   ]
  },
  {
   "cell_type": "code",
   "execution_count": 8,
   "metadata": {},
   "outputs": [],
   "source": [
    "img_size = 28\n",
    "num_images = 60000"
   ]
  },
  {
   "cell_type": "code",
   "execution_count": 9,
   "metadata": {},
   "outputs": [],
   "source": [
    "train_x.read(16)\n",
    "train_x = train_x.read(img_size * img_size * num_images)\n",
    "train_x = np.frombuffer(train_x, dtype=np.uint8())\n",
    "train_x = train_x.reshape(num_images, img_size, img_size)"
   ]
  },
  {
   "cell_type": "code",
   "execution_count": 10,
   "metadata": {},
   "outputs": [],
   "source": [
    "train_y.read(8)\n",
    "train_y = train_y.read(num_images)\n",
    "train_y = np.frombuffer(train_y, dtype=np.uint8)\n",
    "train_y = train_y.tolist()"
   ]
  },
  {
   "cell_type": "code",
   "execution_count": 11,
   "metadata": {},
   "outputs": [],
   "source": [
    "for i in range(len(train_y)):\n",
    "    index = train_y[i]\n",
    "    train_y[i] = np.zeros((1, 10), dtype=np.float32)\n",
    "    np.put(train_y[i], index, 1)"
   ]
  },
  {
   "cell_type": "code",
   "execution_count": 12,
   "metadata": {},
   "outputs": [],
   "source": [
    "np.save(\"Data/train_features.npy\", train_x)\n",
    "np.save(\"Data/train_labels.npy\", train_y)"
   ]
  },
  {
   "cell_type": "code",
   "execution_count": 6,
   "metadata": {},
   "outputs": [
    {
     "data": {
      "image/png": "[encoded data removed]",
      "text/plain": [
       "<Figure size 432x288 with 1 Axes>"
      ]
     },
     "metadata": {
      "needs_background": "light"
     },
     "output_type": "display_data"
    }
   ],
   "source": [
    "plt.imshow(train_x[np.random.randint(0, len(train_y))], cmap=\"binary\")\n",
    "plt.show()"
   ]
  },
  {
   "cell_type": "markdown",
   "metadata": {},
   "source": [
    "## The model"
   ]
  },
  {
   "cell_type": "markdown",
   "metadata": {},
   "source": [
    "First the data is loaded and converted to tensors."
   ]
  },
  {
   "cell_type": "code",
   "execution_count": 43,
   "metadata": {},
   "outputs": [],
   "source": [
    "train_x = np.load(\"Data/train_features.npy\")\n",
    "train_y = np.load(\"Data/train_labels.npy\")\n",
    "# c = list(zip(train_x, train_y))\n",
    "# random.shuffle(c)\n",
    "# train_x, train_y = zip(*c)\n",
    "train_x = tf.convert_to_tensor(train_x, dtype=tf.float32)\n",
    "train_x = train_x / 255.0\n",
    "train_x = train_x[..., tf.newaxis]\n",
    "train_y = tf.convert_to_tensor(train_y, dtype=tf.float32)\n",
    "train_ds = tf.data.Dataset.from_tensor_slices((train_x, train_y)).shuffle(1000).batch(32)"
   ]
  },
  {
   "cell_type": "code",
   "execution_count": 44,
   "metadata": {},
   "outputs": [],
   "source": [
    "class TrainModel(tf.keras.Model):\n",
    "    def __init__(self):\n",
    "        super(TrainModel, self).__init__()\n",
    "        self.conv1 = tf.keras.layers.Conv2D(8, 3, activation=\"relu\")\n",
    "        self.pool1 = tf.keras.layers.MaxPool2D()\n",
    "        self.flatten = tf.keras.layers.Flatten()\n",
    "        self.d1 = tf.keras.layers.Dense(128, activation=\"relu\")\n",
    "        self.d2 = tf.keras.layers.Dense(32, activation=\"relu\")\n",
    "        self.d3 = tf.keras.layers.Dense(10, activation=\"softmax\")\n",
    "\n",
    "    def call(self, inputs):\n",
    "        x = self.conv1(inputs)\n",
    "        x = self.pool1(x)\n",
    "        x = self.flatten(x)\n",
    "        x = self.d1(x)\n",
    "        x = self.d2(x)\n",
    "        return self.d3(x)\n",
    "\n",
    "model = TrainModel()"
   ]
  },
  {
   "cell_type": "code",
   "execution_count": 45,
   "metadata": {},
   "outputs": [],
   "source": [
    "loss = tf.keras.losses.CategoricalCrossentropy()\n",
    "optimizer = tf.keras.optimizers.Adam()"
   ]
  },
  {
   "cell_type": "code",
   "execution_count": 8,
   "metadata": {
    "collapsed": true,
    "jupyter": {
     "outputs_hidden": true
    }
   },
   "outputs": [
    {
     "data": {
      "text/plain": [
       "<tf.Tensor: shape=(60000, 10), dtype=float32, numpy=\n",
       "array([[0.07861502, 0.12405796, 0.10760193, ..., 0.10757466, 0.11715619,\n",
       "        0.1062955 ],\n",
       "       [0.0819091 , 0.12799802, 0.09670891, ..., 0.1124753 , 0.11879195,\n",
       "        0.09931836],\n",
       "       [0.06471206, 0.12625864, 0.11894716, ..., 0.11428633, 0.1217747 ,\n",
       "        0.13195713],\n",
       "       ...,\n",
       "       [0.06869063, 0.10570644, 0.10647908, ..., 0.12192409, 0.1316709 ,\n",
       "        0.12835005],\n",
       "       [0.08184437, 0.12887725, 0.11159392, ..., 0.10678302, 0.11444664,\n",
       "        0.11068818],\n",
       "       [0.06699902, 0.12529801, 0.10691882, ..., 0.1037627 , 0.13876262,\n",
       "        0.11078739]], dtype=float32)>"
      ]
     },
     "execution_count": 8,
     "metadata": {},
     "output_type": "execute_result"
    }
   ],
   "source": [
    "model(train_x)"
   ]
  },
  {
   "cell_type": "code",
   "execution_count": 52,
   "metadata": {},
   "outputs": [
    {
     "data": {
      "text/plain": [
       "<tf.Variable 'UnreadVariable' shape=() dtype=int64, numpy=6>"
      ]
     },
     "execution_count": 52,
     "metadata": {},
     "output_type": "execute_result"
    }
   ],
   "source": [
    "with tf.GradientTape() as g:\n",
    "    preds = model(train_x[0:10])\n",
    "    loss_funct = loss(train_y[0:10], preds)\n",
    "gradients = g.gradient(loss_funct, model.trainable_variables)\n",
    "optimizer.apply_gradients(zip(gradients, model.trainable_variables))"
   ]
  },
  {
   "cell_type": "code",
   "execution_count": 9,
   "metadata": {},
   "outputs": [],
   "source": [
    "# Just messing with tensorflows gradient tape\n",
    "x = tf.constant(5.0)\n",
    "with tf.GradientTape() as g:\n",
    "  g.watch(x)\n",
    "  y = 2*x**2 + 5*x\n",
    "dy_dx = g.gradient(y, x)"
   ]
  },
  {
   "cell_type": "code",
   "execution_count": 10,
   "metadata": {},
   "outputs": [
    {
     "data": {
      "text/plain": [
       "<tf.Tensor: shape=(), dtype=float32, numpy=25.0>"
      ]
     },
     "execution_count": 10,
     "metadata": {},
     "output_type": "execute_result"
    }
   ],
   "source": [
    "dy_dx"
   ]
  },
  {
   "cell_type": "code",
   "execution_count": 9,
   "metadata": {
    "collapsed": true,
    "jupyter": {
     "outputs_hidden": true
    }
   },
   "outputs": [
    {
     "data": {
      "text/plain": [
       "[<tf.Variable 'train_model/conv2d/kernel:0' shape=(3, 3, 1, 8) dtype=float32, numpy=\n",
       " array([[[[ 0.21061945,  0.16250265, -0.0401371 ,  0.01714382,\n",
       "            0.08974344,  0.21098095,  0.16236982,  0.23874414]],\n",
       " \n",
       "         [[ 0.00134268,  0.1618773 , -0.22712009, -0.05956858,\n",
       "            0.10641602, -0.08540712,  0.06142357, -0.07926685]],\n",
       " \n",
       "         [[-0.12894826, -0.14725788,  0.21853852,  0.20329025,\n",
       "           -0.13788545,  0.05260271, -0.2622058 , -0.06019445]]],\n",
       " \n",
       " \n",
       "        [[[ 0.0401186 ,  0.2100651 , -0.2170614 , -0.22825415,\n",
       "           -0.21050602,  0.18886036, -0.19400603,  0.2186397 ]],\n",
       " \n",
       "         [[ 0.17825124,  0.00834203,  0.12345842,  0.14784467,\n",
       "           -0.18948688,  0.09897554, -0.26093903,  0.07837662]],\n",
       " \n",
       "         [[ 0.07234213, -0.0698442 , -0.18174954,  0.17883405,\n",
       "           -0.13278684,  0.00453991,  0.25082618, -0.03450847]]],\n",
       " \n",
       " \n",
       "        [[[-0.05255444, -0.21081223,  0.07778472,  0.18340117,\n",
       "           -0.18424842, -0.01908797,  0.1714327 ,  0.0242137 ]],\n",
       " \n",
       "         [[-0.05720642,  0.03636461,  0.22921813, -0.20996757,\n",
       "            0.06932873, -0.19688977, -0.05239838,  0.2518888 ]],\n",
       " \n",
       "         [[-0.04314952, -0.12367684,  0.10936373, -0.08213152,\n",
       "           -0.06154823,  0.22118855, -0.11966863,  0.20733008]]]],\n",
       "       dtype=float32)>,\n",
       " <tf.Variable 'train_model/conv2d/bias:0' shape=(8,) dtype=float32, numpy=array([0., 0., 0., 0., 0., 0., 0., 0.], dtype=float32)>,\n",
       " <tf.Variable 'train_model/dense/kernel:0' shape=(1352, 128) dtype=float32, numpy=\n",
       " array([[-0.05300907,  0.05633052,  0.00439105, ..., -0.03888587,\n",
       "          0.01419953,  0.03179929],\n",
       "        [ 0.05374266,  0.04697122, -0.06260262, ..., -0.02925305,\n",
       "          0.01205553,  0.0322364 ],\n",
       "        [-0.06229343,  0.0386988 , -0.06204596, ...,  0.02834507,\n",
       "         -0.04420763,  0.03934257],\n",
       "        ...,\n",
       "        [-0.03868597, -0.05928204,  0.00086478, ..., -0.01620787,\n",
       "          0.02870426,  0.01022951],\n",
       "        [-0.04045417,  0.06313516,  0.02464516, ...,  0.0334465 ,\n",
       "         -0.0605533 ,  0.05332546],\n",
       "        [ 0.04959033, -0.0167908 ,  0.06199136, ...,  0.02331731,\n",
       "          0.05877054,  0.00029927]], dtype=float32)>,\n",
       " <tf.Variable 'train_model/dense/bias:0' shape=(128,) dtype=float32, numpy=\n",
       " array([0., 0., 0., 0., 0., 0., 0., 0., 0., 0., 0., 0., 0., 0., 0., 0., 0.,\n",
       "        0., 0., 0., 0., 0., 0., 0., 0., 0., 0., 0., 0., 0., 0., 0., 0., 0.,\n",
       "        0., 0., 0., 0., 0., 0., 0., 0., 0., 0., 0., 0., 0., 0., 0., 0., 0.,\n",
       "        0., 0., 0., 0., 0., 0., 0., 0., 0., 0., 0., 0., 0., 0., 0., 0., 0.,\n",
       "        0., 0., 0., 0., 0., 0., 0., 0., 0., 0., 0., 0., 0., 0., 0., 0., 0.,\n",
       "        0., 0., 0., 0., 0., 0., 0., 0., 0., 0., 0., 0., 0., 0., 0., 0., 0.,\n",
       "        0., 0., 0., 0., 0., 0., 0., 0., 0., 0., 0., 0., 0., 0., 0., 0., 0.,\n",
       "        0., 0., 0., 0., 0., 0., 0., 0., 0.], dtype=float32)>,\n",
       " <tf.Variable 'train_model/dense_1/kernel:0' shape=(128, 32) dtype=float32, numpy=\n",
       " array([[-0.13597906,  0.1371924 , -0.02346346, ...,  0.15130389,\n",
       "         -0.1851723 ,  0.04273196],\n",
       "        [ 0.02713099,  0.10859904,  0.01267081, ...,  0.06098551,\n",
       "          0.03693989, -0.10290567],\n",
       "        [-0.18379036,  0.09427541, -0.11974832, ..., -0.10048814,\n",
       "         -0.17361768, -0.17860265],\n",
       "        ...,\n",
       "        [ 0.09809989, -0.10148988, -0.1360128 , ..., -0.12025144,\n",
       "          0.12826219, -0.16830185],\n",
       "        [-0.00916964,  0.11762336,  0.06869891, ...,  0.12962875,\n",
       "         -0.13458085, -0.12287156],\n",
       "        [-0.07508136,  0.0309089 ,  0.1863721 , ...,  0.05439338,\n",
       "          0.0184904 ,  0.02683315]], dtype=float32)>,\n",
       " <tf.Variable 'train_model/dense_1/bias:0' shape=(32,) dtype=float32, numpy=\n",
       " array([0., 0., 0., 0., 0., 0., 0., 0., 0., 0., 0., 0., 0., 0., 0., 0., 0.,\n",
       "        0., 0., 0., 0., 0., 0., 0., 0., 0., 0., 0., 0., 0., 0., 0.],\n",
       "       dtype=float32)>,\n",
       " <tf.Variable 'train_model/dense_2/kernel:0' shape=(32, 10) dtype=float32, numpy=\n",
       " array([[ 0.06372222,  0.01127008, -0.034991  ,  0.23682967,  0.22151825,\n",
       "          0.10173672, -0.22209543,  0.09588149, -0.27337566,  0.22880891],\n",
       "        [ 0.36973915, -0.0042221 , -0.33699155,  0.18128201,  0.2992231 ,\n",
       "         -0.19349666,  0.07745844, -0.25204742, -0.19405618, -0.03811163],\n",
       "        [ 0.03457701, -0.00367492,  0.23419449,  0.3684114 , -0.1551374 ,\n",
       "         -0.29718786, -0.06878093,  0.11017126,  0.31269285, -0.18591999],\n",
       "        [-0.1690625 ,  0.15778866, -0.27332383, -0.12810688,  0.2575707 ,\n",
       "          0.215875  , -0.26520368,  0.11196083, -0.10874259,  0.11067727],\n",
       "        [ 0.28661743,  0.09295586, -0.21496816,  0.02016547, -0.12836145,\n",
       "          0.04071474, -0.28114688,  0.314451  ,  0.27824685, -0.20102504],\n",
       "        [ 0.33333358,  0.20611212,  0.2678667 ,  0.1445376 , -0.02971086,\n",
       "         -0.08709511,  0.06428769, -0.039572  , -0.32861584, -0.06685945],\n",
       "        [-0.2101103 , -0.13842715, -0.2427248 , -0.25759393,  0.25074294,\n",
       "          0.16543171, -0.14480181,  0.1961588 ,  0.26511   ,  0.14273074],\n",
       "        [-0.13072748,  0.25056848, -0.12638617,  0.37100717,  0.04216117,\n",
       "          0.29287508, -0.3270219 ,  0.14002421,  0.15458754,  0.17056534],\n",
       "        [-0.30165163,  0.13977572,  0.28221002, -0.16881   , -0.33203277,\n",
       "         -0.08929688,  0.01600799, -0.06714222,  0.15980175,  0.06911284],\n",
       "        [ 0.33454922,  0.35798696,  0.25354794,  0.36241922,  0.33073118,\n",
       "         -0.07019952,  0.23067984, -0.07175937, -0.3426013 ,  0.3311719 ],\n",
       "        [-0.22107652,  0.21437082, -0.11219594, -0.28651515,  0.01761958,\n",
       "         -0.24322413, -0.29824138,  0.2518755 ,  0.32967862, -0.37344292],\n",
       "        [ 0.14662465, -0.16129488,  0.29827443, -0.03543624,  0.3493906 ,\n",
       "          0.10521042, -0.32077467,  0.05155346,  0.28091404,  0.20514062],\n",
       "        [-0.17726852,  0.19508484,  0.23716506, -0.17476012,  0.25748834,\n",
       "          0.11634424,  0.3539925 , -0.11912641,  0.2977182 , -0.1631239 ],\n",
       "        [-0.20725712,  0.15700826,  0.09010482,  0.26324913,  0.1407099 ,\n",
       "         -0.28784296,  0.3118023 , -0.06116605,  0.21289447,  0.10057786],\n",
       "        [ 0.14548877,  0.18746516,  0.18798366,  0.08888975,  0.3035368 ,\n",
       "         -0.1449732 , -0.21881078, -0.3385144 ,  0.18511888, -0.30154783],\n",
       "        [-0.19584963, -0.1918055 ,  0.02750507,  0.20556828,  0.12958297,\n",
       "          0.22035858,  0.00176632, -0.08765996,  0.27734092,  0.11831304],\n",
       "        [ 0.12832442,  0.05498713,  0.12146783, -0.2515636 , -0.07055861,\n",
       "         -0.02376893,  0.08448002,  0.24722716,  0.10356802,  0.18805423],\n",
       "        [ 0.01335278, -0.3523481 ,  0.2671292 , -0.03949261, -0.02517274,\n",
       "         -0.06344882, -0.21452191,  0.31863555, -0.15544432, -0.36387023],\n",
       "        [ 0.1615983 , -0.02885252,  0.0722807 , -0.18067689,  0.20422128,\n",
       "         -0.3773836 , -0.04734981, -0.36431944,  0.14155915,  0.3630301 ],\n",
       "        [ 0.01947007, -0.1703095 , -0.20944509, -0.02122432,  0.20526972,\n",
       "         -0.33776796,  0.2018086 , -0.13450658, -0.27150977,  0.15571037],\n",
       "        [-0.24465469,  0.22632483,  0.19798759,  0.10148567, -0.1558539 ,\n",
       "         -0.06327257, -0.14305595,  0.15744492,  0.30159548,  0.339559  ],\n",
       "        [ 0.37433288, -0.24666314,  0.01215005, -0.01853496,  0.24998412,\n",
       "         -0.11218181, -0.20239611,  0.03891039,  0.3554289 ,  0.05123842],\n",
       "        [-0.08037597,  0.2988225 ,  0.04953137,  0.24654779, -0.32184118,\n",
       "         -0.01817495, -0.3582108 ,  0.1426132 , -0.16593951, -0.28393096],\n",
       "        [ 0.25538406, -0.08924243,  0.30039296, -0.3150919 ,  0.1883165 ,\n",
       "         -0.11937919,  0.19605741,  0.28296396, -0.17198966,  0.01654902],\n",
       "        [-0.3528779 ,  0.36418578, -0.14579648,  0.04497606, -0.35147732,\n",
       "          0.10916632,  0.1972498 , -0.24369453,  0.3412613 , -0.24439535],\n",
       "        [-0.12826152,  0.15592173, -0.15479109, -0.23795699, -0.35544422,\n",
       "          0.18538651,  0.15552136,  0.05589044,  0.34063855, -0.24989219],\n",
       "        [ 0.22466603,  0.1514568 , -0.29136497, -0.01190808, -0.02001986,\n",
       "         -0.2734188 , -0.1819411 , -0.0705688 ,  0.21430716, -0.17379707],\n",
       "        [-0.27097052,  0.27134034,  0.042386  ,  0.19065627,  0.33716026,\n",
       "          0.15356115, -0.06640726, -0.15420157,  0.23010907,  0.08939761],\n",
       "        [ 0.07520992, -0.22285077,  0.28647867, -0.16018909, -0.09857526,\n",
       "          0.30840603,  0.14766732, -0.3570071 , -0.22739421,  0.14069477],\n",
       "        [-0.25394848, -0.2950939 ,  0.12739155, -0.32315323, -0.30196434,\n",
       "         -0.09555176, -0.02905619,  0.22422138, -0.07746467, -0.21288148],\n",
       "        [-0.15644613,  0.10525134, -0.3046773 , -0.29063064,  0.1956586 ,\n",
       "         -0.22926767,  0.08527085,  0.01936013, -0.05321109,  0.12197697],\n",
       "        [ 0.3315328 , -0.07715198, -0.26176953,  0.15349641,  0.27186814,\n",
       "          0.29190794, -0.26291534,  0.07736617, -0.27427408,  0.16710791]],\n",
       "       dtype=float32)>,\n",
       " <tf.Variable 'train_model/dense_2/bias:0' shape=(10,) dtype=float32, numpy=array([0., 0., 0., 0., 0., 0., 0., 0., 0., 0.], dtype=float32)>]"
      ]
     },
     "execution_count": 9,
     "metadata": {},
     "output_type": "execute_result"
    }
   ],
   "source": [
    "model.trainable_variables"
   ]
  },
  {
   "cell_type": "code",
   "execution_count": null,
   "metadata": {},
   "outputs": [],
   "source": []
  },
  {
   "cell_type": "code",
   "execution_count": 56,
   "metadata": {},
   "outputs": [
    {
     "data": {
      "image/png": "[encoded data removed]",
      "text/plain": [
       "<Figure size 432x288 with 1 Axes>"
      ]
     },
     "metadata": {
      "needs_background": "light"
     },
     "output_type": "display_data"
    }
   ],
   "source": [
    "plt.imshow(tf.squeeze(train_x[np.random.randint(0, len(train_y))]), cmap=\"binary\")\n",
    "plt.show()"
   ]
  },
  {
   "cell_type": "code",
   "execution_count": 53,
   "metadata": {},
   "outputs": [
    {
     "data": {
      "text/plain": [
       "<tf.Tensor: shape=(), dtype=float32, numpy=1.9940599>"
      ]
     },
     "execution_count": 53,
     "metadata": {},
     "output_type": "execute_result"
    }
   ],
   "source": [
    "loss(train_y[0:10], preds)"
   ]
  },
  {
   "cell_type": "code",
   "execution_count": null,
   "metadata": {},
   "outputs": [],
   "source": []
  }
 ],
 "metadata": {
  "kernelspec": {
   "display_name": "Python 3",
   "language": "python",
   "name": "python3"
  },
  "language_info": {
   "codemirror_mode": {
    "name": "ipython",
    "version": 3
   },
   "file_extension": ".py",
   "mimetype": "text/x-python",
   "name": "python",
   "nbconvert_exporter": "python",
   "pygments_lexer": "ipython3",
   "version": "3.7.6"
  }
 },
 "nbformat": 4,
 "nbformat_minor": 4
}
